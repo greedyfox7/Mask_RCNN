{
  "nbformat": 4,
  "nbformat_minor": 0,
  "metadata": {
    "colab": {
      "name": "Копия блокнота \"Копия блокнота \"4 MNIST.ipynb\"\"",
      "provenance": [],
      "collapsed_sections": [],
      "include_colab_link": true
    },
    "kernelspec": {
      "name": "python3",
      "display_name": "Python 3"
    },
    "accelerator": "GPU"
  },
  "cells": [
    {
      "cell_type": "markdown",
      "metadata": {
        "id": "view-in-github",
        "colab_type": "text"
      },
      "source": [
        "<a href=\"https://colab.research.google.com/github/greedyfox7/Mask_RCNN/blob/master/copy.ipynb\" target=\"_parent\"><img src=\"https://colab.research.google.com/assets/colab-badge.svg\" alt=\"Open In Colab\"/></a>"
      ]
    },
    {
      "cell_type": "code",
      "metadata": {
        "id": "hKH-9ZMzVUxD",
        "outputId": "27b06d5b-b8a1-49c5-a800-6bdc73edc437",
        "colab": {
          "base_uri": "https://localhost:8080/",
          "height": 268
        }
      },
      "source": [
        "# Plot ad hoc mnist instances\n",
        "from keras.datasets import mnist\n",
        "import matplotlib.pyplot as plt\n",
        "# load (downloaded if needed) the MNIST dataset\n",
        "(X_train, y_train), (X_test, y_test) = mnist.load_data()\n",
        "# plot 4 images as gray scale\n",
        "plt.subplot(221)\n",
        "plt.imshow(X_train[0], cmap=plt.get_cmap('gray'))\n",
        "plt.subplot(222)\n",
        "plt.imshow(X_train[1], cmap=plt.get_cmap('gray'))\n",
        "plt.subplot(223)\n",
        "plt.imshow(X_train[2], cmap=plt.get_cmap('gray'))\n",
        "plt.subplot(224)\n",
        "plt.imshow(X_train[3], cmap=plt.get_cmap('gray'))\n",
        "# show the plot\n",
        "plt.show()"
      ],
      "execution_count": null,
      "outputs": [
        {
          "output_type": "display_data",
          "data": {
            "image/png": "[encoded data removed]",
            "text/plain": [
              "<Figure size 432x288 with 4 Axes>"
            ]
          },
          "metadata": {
            "tags": [],
            "needs_background": "light"
          }
        }
      ]
    },
    {
      "cell_type": "code",
      "metadata": {
        "id": "K1tC7lnQNNCs"
      },
      "source": [
        ""
      ],
      "execution_count": null,
      "outputs": []
    },
    {
      "cell_type": "code",
      "metadata": {
        "id": "aAZaQjbs0N5R",
        "outputId": "2c6d6c00-7332-4186-ad86-d328d96ea37f",
        "colab": {
          "base_uri": "https://localhost:8080/",
          "height": 265
        }
      },
      "source": [
        "plt.subplot(111)\n",
        "plt.imshow(X_test[1], cmap=plt.get_cmap('gray'))\n",
        "plt.show()"
      ],
      "execution_count": null,
      "outputs": [
        {
          "output_type": "display_data",
          "data": {
            "image/png": "[encoded data removed]",
            "text/plain": [
              "<Figure size 432x288 with 1 Axes>"
            ]
          },
          "metadata": {
            "tags": [],
            "needs_background": "light"
          }
        }
      ]
    },
    {
      "cell_type": "code",
      "metadata": {
        "id": "-wNvIevja4jc"
      },
      "source": [
        "import numpy\n",
        "from keras.datasets import mnist\n",
        "from keras.models import Sequential\n",
        "from keras.layers import Dense\n",
        "from keras.layers import Dropout\n",
        "from keras.utils import np_utils"
      ],
      "execution_count": null,
      "outputs": []
    },
    {
      "cell_type": "code",
      "metadata": {
        "id": "PdKh2sPKbAmC"
      },
      "source": [
        "# fix random seed for reproducibility\n",
        "seed = 7\n",
        "numpy.random.seed(seed)"
      ],
      "execution_count": null,
      "outputs": []
    },
    {
      "cell_type": "code",
      "metadata": {
        "id": "62WCiXFibFb6"
      },
      "source": [
        "# load data\n",
        "(X_train, y_train), (X_test, y_test) = mnist.load_data()"
      ],
      "execution_count": null,
      "outputs": []
    },
    {
      "cell_type": "code",
      "metadata": {
        "id": "nQ3VHor3bLSR"
      },
      "source": [
        "# flatten 28*28 images to a 784 vector for each image\n",
        "num_pixels = X_train.shape[1] * X_train.shape[2]\n",
        "X_train = X_train.reshape(X_train.shape[0], num_pixels).astype('float32')\n",
        "X_test = X_test.reshape(X_test.shape[0], num_pixels).astype('float32')"
      ],
      "execution_count": null,
      "outputs": []
    },
    {
      "cell_type": "code",
      "metadata": {
        "id": "DVYRDnstbPXy"
      },
      "source": [
        "# normalize inputs from 0-255 to 0-1\n",
        "X_train = X_train / 255\n",
        "X_test = X_test / 255"
      ],
      "execution_count": null,
      "outputs": []
    },
    {
      "cell_type": "code",
      "metadata": {
        "id": "9CLowGAfbUYi"
      },
      "source": [
        "# one hot encode outputs\n",
        "y_trainc = np_utils.to_categorical(y_train)\n",
        "y_testc = np_utils.to_categorical(y_test)\n",
        "num_classes = y_testc.shape[1]"
      ],
      "execution_count": null,
      "outputs": []
    },
    {
      "cell_type": "code",
      "metadata": {
        "id": "T5eP0Y1JbXDy"
      },
      "source": [
        "# define baseline model\n",
        "def baseline_model(numn,optimizer_i):\n",
        "    model = Sequential()\n",
        "    model.add(Dense(numn, input_dim=num_pixels, activation='relu'))\n",
        "    #model.add(Dense(200, activation='relu'))\n",
        "    model.add(Dense(num_classes, activation='softmax'))\n",
        "    model.compile(loss='categorical_crossentropy', optimizer=optimizer_i, metrics=['accuracy'])\n",
        "    return model"
      ],
      "execution_count": null,
      "outputs": []
    },
    {
      "cell_type": "code",
      "metadata": {
        "id": "vGxDF6TvbbjK",
        "outputId": "d3bc8733-6c19-41a7-ec57-60f99233ac3a",
        "colab": {
          "base_uri": "https://localhost:8080/",
          "height": 370
        }
      },
      "source": [
        "# build the model\n",
        "optimizer_perebor = ['SGD','RMSprop','Adam','Adadelta','Adagrad','Adamax','Nadam','Ftrl']\n",
        "for i in range(len(optimizer_perebor))\n",
        "  print('Output for optimizer: ', optimizer_perebor[i])\n",
        "  model = baseline_model(160, optimizer_perebor[i])\n",
        "  # Fit the model\n",
        "  model.fit(X_train, y_trainc, validation_data=(X_test, y_testc), epochs=10, batch_size=200, verbose=2)\n",
        "  # Final evaluation of the model\n",
        "  scores = model.evaluate(X_test, y_testc, verbose=0)\n",
        "  print(\"Baseline Error: %.2f%%\" % (100-scores[1]*100))"
      ],
      "execution_count": null,
      "outputs": [
        {
          "output_type": "stream",
          "text": [
            "Epoch 1/10\n",
            "300/300 - 1s - loss: 0.3931 - accuracy: 0.8913 - val_loss: 0.2085 - val_accuracy: 0.9427\n",
            "Epoch 2/10\n",
            "300/300 - 1s - loss: 0.1795 - accuracy: 0.9481 - val_loss: 0.1458 - val_accuracy: 0.9570\n",
            "Epoch 3/10\n",
            "300/300 - 1s - loss: 0.1290 - accuracy: 0.9635 - val_loss: 0.1207 - val_accuracy: 0.9647\n",
            "Epoch 4/10\n",
            "300/300 - 1s - loss: 0.0999 - accuracy: 0.9714 - val_loss: 0.1006 - val_accuracy: 0.9698\n",
            "Epoch 5/10\n",
            "300/300 - 1s - loss: 0.0814 - accuracy: 0.9768 - val_loss: 0.0915 - val_accuracy: 0.9714\n",
            "Epoch 6/10\n",
            "300/300 - 1s - loss: 0.0667 - accuracy: 0.9812 - val_loss: 0.0869 - val_accuracy: 0.9731\n",
            "Epoch 7/10\n",
            "300/300 - 1s - loss: 0.0560 - accuracy: 0.9846 - val_loss: 0.0812 - val_accuracy: 0.9738\n",
            "Epoch 8/10\n",
            "300/300 - 1s - loss: 0.0477 - accuracy: 0.9864 - val_loss: 0.0754 - val_accuracy: 0.9773\n",
            "Epoch 9/10\n",
            "300/300 - 1s - loss: 0.0398 - accuracy: 0.9894 - val_loss: 0.0715 - val_accuracy: 0.9775\n",
            "Epoch 10/10\n",
            "300/300 - 1s - loss: 0.0343 - accuracy: 0.9908 - val_loss: 0.0716 - val_accuracy: 0.9767\n",
            "Baseline Error: 2.33%\n"
          ],
          "name": "stdout"
        }
      ]
    },
    {
      "cell_type": "code",
      "metadata": {
        "id": "IE4gMJagbgqq",
        "outputId": "dbad0259-9adb-4b93-b63e-c6dca299b5be",
        "colab": {
          "base_uri": "https://localhost:8080/",
          "height": 50
        }
      },
      "source": [
        "predicted_results = model.predict(X_test[1].reshape((1, -1)))\n",
        "print(predicted_results)"
      ],
      "execution_count": null,
      "outputs": [
        {
          "output_type": "stream",
          "text": [
            "[[1.0478869e-07 7.0301971e-06 7.9928459e-06 2.5981797e-02 1.3966976e-06\n",
            "  1.8851840e-07 1.1256801e-10 1.2684508e-03 9.6123177e-01 1.1501245e-02]]\n"
          ],
          "name": "stdout"
        }
      ]
    },
    {
      "cell_type": "code",
      "metadata": {
        "id": "dN_rx6PP1nDt",
        "outputId": "c45eb653-a4cb-4a38-d69c-6b4a5854db2d",
        "colab": {
          "base_uri": "https://localhost:8080/",
          "height": 185
        }
      },
      "source": [
        "import numpy as np\n",
        "from sklearn.metrics import confusion_matrix\n",
        "predicted_outputs = np.argmax(model.predict(X_test), axis=1)\n",
        "expected_outputs = np.argmax(y_testc, axis=1)\n",
        "\n",
        "predicted_confusion_matrix = confusion_matrix(expected_outputs, predicted_outputs)\n",
        "predicted_confusion_matrix"
      ],
      "execution_count": null,
      "outputs": [
        {
          "output_type": "execute_result",
          "data": {
            "text/plain": [
              "array([[684,   0,   0,   2,   0,   1,   2,   1,   0,   0],\n",
              "       [  1, 779,   4,   0,   1,   0,   1,   0,   1,   0],\n",
              "       [  2,   2, 678,   5,   2,   0,   1,   6,   2,   1],\n",
              "       [  0,   2,   5, 679,   0,   7,   1,   8,   7,   5],\n",
              "       [  1,   0,   1,   1, 656,   2,   1,   2,   3,  16],\n",
              "       [  2,   1,   1,   5,   1, 610,   5,   0,   5,   1],\n",
              "       [  2,   3,   0,   0,   3,   1, 677,   0,   2,   0],\n",
              "       [  0,   9,   2,   0,   2,   1,   0, 712,   1,   2],\n",
              "       [  3,  11,   2,  10,   1,   3,   1,   3, 645,   4],\n",
              "       [  2,   2,   0,   2,   6,   4,   0,   8,   0, 672]])"
            ]
          },
          "metadata": {
            "tags": []
          },
          "execution_count": 52
        }
      ]
    },
    {
      "cell_type": "code",
      "metadata": {
        "id": "LzE92E6BAQoI",
        "outputId": "68e2b6d9-b2c9-419d-9dd0-6663de130d38",
        "colab": {
          "base_uri": "https://localhost:8080/",
          "height": 265
        }
      },
      "source": [
        "import matplotlib.pyplot as plt\n",
        "mist1=np.array(mist).T.tolist()\n",
        "graph1 = plt.plot(mist1[0],mist1[1])\n",
        "plt.grid()\n",
        "plt.show()\n"
      ],
      "execution_count": null,
      "outputs": [
        {
          "output_type": "display_data",
          "data": {
            "image/png": "[encoded data removed]",
            "text/plain": [
              "<Figure size 432x288 with 1 Axes>"
            ]
          },
          "metadata": {
            "tags": [],
            "needs_background": "light"
          }
        }
      ]
    }
  ]
}